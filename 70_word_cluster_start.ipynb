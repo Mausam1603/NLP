{
  "nbformat": 4,
  "nbformat_minor": 0,
  "metadata": {
    "colab": {
      "provenance": []
    },
    "kernelspec": {
      "name": "python3",
      "display_name": "Python 3"
    },
    "language_info": {
      "name": "python"
    }
  },
  "cells": [
    {
      "cell_type": "code",
      "execution_count": null,
      "metadata": {
        "colab": {
          "base_uri": "https://localhost:8080/"
        },
        "id": "hF3RTSyvoHKq",
        "outputId": "8ee92444-e56a-4b7a-a508-0cb8b6941f3e"
      },
      "outputs": [
        {
          "output_type": "stream",
          "name": "stderr",
          "text": [
            "/usr/local/lib/python3.10/dist-packages/torchtext/vocab/__init__.py:4: UserWarning: \n",
            "/!\\ IMPORTANT WARNING ABOUT TORCHTEXT STATUS /!\\ \n",
            "Torchtext is deprecated and the last released version will be 0.18 (this one). You can silence this warning by calling the following at the beginnign of your scripts: `import torchtext; torchtext.disable_torchtext_deprecation_warning()`\n",
            "/usr/local/lib/python3.10/dist-packages/torchtext/utils.py:4: UserWarning: \n",
            "/!\\ IMPORTANT WARNING ABOUT TORCHTEXT STATUS /!\\ \n",
            "Torchtext is deprecated and the last released version will be 0.18 (this one). You can silence this warning by calling the following at the beginnign of your scripts: `import torchtext; torchtext.disable_torchtext_deprecation_warning()`\n"
          ]
        }
      ],
      "source": [
        "# packages\n",
        "import pandas as pd\n",
        "from plotnine import ggplot, aes, geom_text, labs\n",
        "from sklearn.manifold import TSNE\n",
        "import torchtext.vocab as vocab\n",
        "import torch\n",
        "\n"
      ]
    },
    {
      "cell_type": "code",
      "source": [
        "#import GloVe\n",
        "glove_dim = 100\n",
        "glove = vocab.GloVe(name='6B', dim = glove_dim)\n",
        "\n",
        "\n"
      ],
      "metadata": {
        "id": "gLjMWeXToSeo"
      },
      "execution_count": null,
      "outputs": []
    },
    {
      "cell_type": "code",
      "source": [
        "#Get closest words from word input\n",
        "def get_embedding_vector(word):\n",
        "    word_index = glove.stoi[word]\n",
        "    emb = glove.vectors[word_index]\n",
        "    return emb\n",
        "\n",
        "def get_closest_words_from_word(word, max_n=5):\n",
        "    word_emb = get_embedding_vector(word)\n",
        "    distances = [(w, torch.dist(word_emb, get_embedding_vector(w)).cpu().item()) for w in glove.itos]\n",
        "    dist_sort_filt = sorted(distances, key=lambda x: x[1])[:max_n]\n",
        "    return [item[0] for item in dist_sort_filt]\n",
        "\n",
        "get_closest_words_from_word(word='chess', max_n=10)"
      ],
      "metadata": {
        "id": "-14hWjVqoVyK",
        "colab": {
          "base_uri": "https://localhost:8080/"
        },
        "outputId": "34e8c6d4-f961-455e-9ffb-4ef66ed7c300"
      },
      "execution_count": null,
      "outputs": [
        {
          "output_type": "execute_result",
          "data": {
            "text/plain": [
              "['chess',\n",
              " 'backgammon',\n",
              " 'grandmasters',\n",
              " 'grandmaster',\n",
              " 'scrabble',\n",
              " 'billiards',\n",
              " 'xiangqi',\n",
              " 'kasparov',\n",
              " 'snooker',\n",
              " 'olympiad']"
            ]
          },
          "metadata": {},
          "execution_count": 4
        }
      ]
    },
    {
      "cell_type": "code",
      "source": [],
      "metadata": {
        "id": "JDoRCHJ5prDW"
      },
      "execution_count": null,
      "outputs": []
    }
  ]
}